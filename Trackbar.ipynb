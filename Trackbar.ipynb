{
  "nbformat": 4,
  "nbformat_minor": 0,
  "metadata": {
    "kernelspec": {
      "display_name": "Python 3",
      "language": "python",
      "name": "python3"
    },
    "language_info": {
      "codemirror_mode": {
        "name": "ipython",
        "version": 3
      },
      "file_extension": ".py",
      "mimetype": "text/x-python",
      "name": "python",
      "nbconvert_exporter": "python",
      "pygments_lexer": "ipython3",
      "version": "3.7.3"
    },
    "colab": {
      "name": "03_Trackbar.ipynb",
      "provenance": [],
      "include_colab_link": true
    }
  },
  "cells": [
    {
      "cell_type": "markdown",
      "metadata": {
        "id": "view-in-github",
        "colab_type": "text"
      },
      "source": [
        "<a href=\"https://colab.research.google.com/github/shravankumar007/machine_learning/blob/main/Trackbar.ipynb\" target=\"_parent\"><img src=\"https://colab.research.google.com/assets/colab-badge.svg\" alt=\"Open In Colab\"/></a>"
      ]
    },
    {
      "cell_type": "code",
      "metadata": {
        "id": "pDCPGb1h7D6d"
      },
      "source": [
        "import cv2\n",
        "import numpy as np"
      ],
      "execution_count": 1,
      "outputs": []
    },
    {
      "cell_type": "code",
      "metadata": {
        "id": "VSPpH-YR7D6n"
      },
      "source": [
        "def emptyFunction():\n",
        "    pass"
      ],
      "execution_count": 2,
      "outputs": []
    },
    {
      "cell_type": "code",
      "metadata": {
        "id": "C55gaAy77D6p"
      },
      "source": [
        "img1 = np.zeros((512, 512, 3), np.uint8)\n",
        "windowName = 'OpenCV BGR Color Palette'\n",
        "cv2.namedWindow(windowName)\n",
        "    \n",
        "cv2.createTrackbar('B', windowName, 0, 255, emptyFunction)\n",
        "cv2.createTrackbar('G', windowName, 0, 255, emptyFunction)\n",
        "cv2.createTrackbar('R', windowName, 0, 255, emptyFunction)\n",
        "\n",
        "while(True):\n",
        "    cv2.imshow(windowName, img1)\n",
        "        \n",
        "    if cv2.waitKey(1) == 27:\n",
        "        break\n",
        "\n",
        "    blue = cv2.getTrackbarPos('B', windowName)\n",
        "    green = cv2.getTrackbarPos('G', windowName)\n",
        "    red = cv2.getTrackbarPos('R', windowName)\n",
        "\n",
        "    img1[:] = [blue, green, red]\n",
        "        \n",
        "cv2.destroyAllWindows()"
      ],
      "execution_count": null,
      "outputs": []
    },
    {
      "cell_type": "code",
      "metadata": {
        "id": "PgyoMxcs7D6u"
      },
      "source": [
        ""
      ],
      "execution_count": null,
      "outputs": []
    }
  ]
}