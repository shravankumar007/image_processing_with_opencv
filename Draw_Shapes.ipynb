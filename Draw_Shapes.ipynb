{
  "nbformat": 4,
  "nbformat_minor": 0,
  "metadata": {
    "kernelspec": {
      "display_name": "Python 3",
      "language": "python",
      "name": "python3"
    },
    "language_info": {
      "codemirror_mode": {
        "name": "ipython",
        "version": 3
      },
      "file_extension": ".py",
      "mimetype": "text/x-python",
      "name": "python",
      "nbconvert_exporter": "python",
      "pygments_lexer": "ipython3",
      "version": "3.7.3"
    },
    "colab": {
      "name": "Draw_Shapes.ipynb",
      "provenance": [],
      "include_colab_link": true
    }
  },
  "cells": [
    {
      "cell_type": "markdown",
      "metadata": {
        "id": "view-in-github",
        "colab_type": "text"
      },
      "source": [
        "<a href=\"https://colab.research.google.com/github/shravankumar007/machine_learning/blob/main/Draw_Shapes.ipynb\" target=\"_parent\"><img src=\"https://colab.research.google.com/assets/colab-badge.svg\" alt=\"Open In Colab\"/></a>"
      ]
    },
    {
      "cell_type": "code",
      "metadata": {
        "id": "I9uu8jJP4i_o"
      },
      "source": [
        "import cv2\n",
        "import numpy as np\n",
        "from google.colab.patches import cv2_imshow"
      ],
      "execution_count": 3,
      "outputs": []
    },
    {
      "cell_type": "code",
      "metadata": {
        "colab": {
          "base_uri": "https://localhost:8080/",
          "height": 546
        },
        "id": "zR3FuBA14i_3",
        "outputId": "ad5b0350-3aa9-4577-9bba-85a7bbdec486"
      },
      "source": [
        "img1 = np.zeros((512, 512, 3), np.uint8)\n",
        "\n",
        "cv2.line(img1, (0, 99), (99, 0), \n",
        "         (255, 0, 0), 2)\n",
        "cv2.rectangle(img1, (100, 60), \n",
        "              (200, 170), (0, 255, 0), 2)\n",
        "cv2.circle(img1, (60, 60), \n",
        "           50, (0, 0, 255), -1)\n",
        "cv2.ellipse(img1, (160, 260), \n",
        "            (50, 20), 0, 0, 360, \n",
        "            (127, 127, 127), -1)\n",
        "    \n",
        "points = np.array([[80, 2], [125, 0], \n",
        "                   [179, 0], [230, 5], \n",
        "                   [30, 50]], np.int32)\n",
        "points = points.reshape((-1, 1, 2))\n",
        "cv2.polylines(img1, [points], True, \n",
        "              (0, 255, 255))\n",
        "    \n",
        "text1 = 'Test Text'\n",
        "cv2.putText(img1, text1, (100, 100), \n",
        "            cv2.FONT_HERSHEY_SIMPLEX, \n",
        "            5, (255, 255, 0))\n",
        "       \n",
        "cv2_imshow(img1)\n",
        "cv2.waitKey(0)\n"
      ],
      "execution_count": 7,
      "outputs": [
        {
          "output_type": "display_data",
          "data": {
            "image/png": "[encoded data removed]",
            "text/plain": [
              "<PIL.Image.Image image mode=RGB size=512x512 at 0x7F95537E98D0>"
            ]
          },
          "metadata": {
            "tags": []
          }
        },
        {
          "output_type": "execute_result",
          "data": {
            "text/plain": [
              "-1"
            ]
          },
          "metadata": {
            "tags": []
          },
          "execution_count": 7
        }
      ]
    },
    {
      "cell_type": "code",
      "metadata": {
        "id": "P7nhWM464i_5"
      },
      "source": [
        ""
      ],
      "execution_count": null,
      "outputs": []
    }
  ]
}